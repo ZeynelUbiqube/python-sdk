{
 "cells": [
  {
   "cell_type": "markdown",
   "metadata": {},
   "source": [
    "### Device Activation Workflow"
   ]
  },
  {
   "cell_type": "markdown",
   "metadata": {},
   "source": [
    "This notebook will be used to outline the steps required in order to create a workflow to add a new device, test connectivity and activate that device. \n",
    "\n",
    "First, two libraries of the MSA Python SDK must be imported: Device and Variables. "
   ]
  },
  {
   "cell_type": "code",
   "execution_count": 1,
   "metadata": {},
   "outputs": [],
   "source": [
    "from msa_sdk.device import Device\n",
    "from msa_sdk.variables import Variables"
   ]
  },
  {
   "cell_type": "markdown",
   "metadata": {},
   "source": [
    "The Variables library controls how variables are passed between the tasks and the orchestration engine. While the Device library is used to perform any MSA function to manage a device. "
   ]
  },
  {
   "cell_type": "markdown",
   "metadata": {},
   "source": [
    "In the first task, a device will be created. This is done by creating a _Device_ object and calling its _create()_ method. In order to create a new device object, a number of variables must be declared initially.\n",
    "\n",
    "This is done by creating a new _Variables_ object and then using its _add()_ method to create the new variables. Once all the variables are created, they are submitted to the orchestration engine using the _task_call()_ method"
   ]
  },
  {
   "cell_type": "code",
   "execution_count": 2,
   "metadata": {},
   "outputs": [],
   "source": [
    "dev_var = Variables()\n",
    "\n",
    "dev_var.add('customer_id', var_type='Integer')\n",
    "dev_var.add('managed_device_name')\n",
    "dev_var.add('manufacturer_id', var_type='Integer')\n",
    "dev_var.add('model_id', var_type='Integer')\n",
    "dev_var.add('device_ip_address', var_type='IP Address')\n",
    "dev_var.add('login')\n",
    "dev_var.add('password', var_type='Password')\n",
    "dev_var.add('password_admin', var_type='Password')\n",
    "\n",
    "context = Variables.task_call(dev_var)"
   ]
  },
  {
   "cell_type": "markdown",
   "metadata": {},
   "source": [
    "Next, the new device object will be created by calling the _Device_ constructor. The device can then be created in the MSA by calling its _create()_ method.\n",
    "\n",
    "For future tasks, the _device_id_ will be stored in context and the task will end with a 'Task OK' message. All the variables created in this task will be made available to the next task."
   ]
  },
  {
   "cell_type": "code",
   "execution_count": null,
   "metadata": {},
   "outputs": [],
   "source": [
    "new_device = Device(context['customer_id'], context['managed_device_name'], context['manufacturer_id'],context['model_id'], context['login'], context['password'], context['password_admin'],context['device_ip_address'])\n",
    "new_device.create()\n",
    "context['device_id'] = new_device.device_id\n",
    "\n",
    "print(new_device.process_content('ENDED', 'Task OK', context, True))"
   ]
  },
  {
   "cell_type": "markdown",
   "metadata": {},
   "source": [
    "The second task will test network connectivity by pinging the device. This is done by calling the _Device_ object's _ping_ method."
   ]
  },
  {
   "cell_type": "code",
   "execution_count": null,
   "metadata": {},
   "outputs": [],
   "source": [
    "new_device = Device(device_id=context['device_id'])\n",
    "new_device.read()\n",
    "new_device.ping(new_device.management_address)\n",
    "\n",
    "print(new_device.process_content('ENDED', 'Pinging IP: ' + new_device.management_address + ' successfully', context, True))"
   ]
  },
  {
   "cell_type": "markdown",
   "metadata": {},
   "source": [
    "Finally, the device will be activated on the MSA by calling the _Device_ object's _initial_provisioning()_ method."
   ]
  },
  {
   "cell_type": "code",
   "execution_count": null,
   "metadata": {},
   "outputs": [],
   "source": [
    "new_device = Device(device_id=context['device_id'])\n",
    "new_device.initial_provisioning()\n",
    "\n",
    "print(new_device.process_content('ENDED', 'Device: ' + str(new_device.device_id) + ' provisioned successfully', context, True))"
   ]
  },
  {
   "cell_type": "markdown",
   "metadata": {},
   "source": []
  }
 ],
 "metadata": {
  "kernelspec": {
   "display_name": "Python 3",
   "language": "python",
   "name": "python3"
  },
  "language_info": {
   "codemirror_mode": {
    "name": "ipython",
    "version": 3
   },
   "file_extension": ".py",
   "mimetype": "text/x-python",
   "name": "python",
   "nbconvert_exporter": "python",
   "pygments_lexer": "ipython3",
   "version": "3.7.3"
  }
 },
 "nbformat": 4,
 "nbformat_minor": 2
}
